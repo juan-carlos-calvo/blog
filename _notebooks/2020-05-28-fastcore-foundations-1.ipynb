{
 "cells": [
  {
   "cell_type": "markdown",
   "metadata": {
    "Collapsed": "false"
   },
   "source": [
    "# Fastcore 01\n",
    "> Foundations\n",
    "\n",
    "- toc: true \n",
    "- badges: true\n",
    "- comments: true\n",
    "- categories: [fastcore, fastai, python]"
   ]
  },
  {
   "cell_type": "code",
   "execution_count": 1,
   "metadata": {
    "Collapsed": "false"
   },
   "outputs": [],
   "source": [
    "from fastcore.imports import *"
   ]
  },
  {
   "cell_type": "code",
   "execution_count": 2,
   "metadata": {
    "Collapsed": "false"
   },
   "outputs": [],
   "source": [
    "#hide\n",
    "from fastcore.test import *\n",
    "from nbdev.showdoc import *"
   ]
  },
  {
   "cell_type": "markdown",
   "metadata": {
    "Collapsed": "false"
   },
   "source": [
    "# Core\n",
    "\n",
    "> Basic functions used in the fastai library"
   ]
  },
  {
   "cell_type": "code",
   "execution_count": 3,
   "metadata": {
    "Collapsed": "false"
   },
   "outputs": [],
   "source": [
    "defaults = SimpleNamespace()"
   ]
  },
  {
   "cell_type": "markdown",
   "metadata": {
    "Collapsed": "false"
   },
   "source": [
    "## Metaclasses"
   ]
  },
  {
   "cell_type": "markdown",
   "metadata": {
    "Collapsed": "false"
   },
   "source": [
    "See this [blog post](https://realpython.com/python-metaclasses/) for more information about metaclasses. \n",
    "- `PrePostInitMeta` ensures that the classes defined with it run `__pre_init__` and `__post_init__` (without having to write `self.__pre_init__()` and `self.__post_init__()`  in the actual `init`\n",
    "- `NewChkMeta` gives the `PrePostInitMeta` functionality and ensures classes defined with it don't re-create an object of their type whenever it's passed to the constructor\n",
    "- `BypassNewMeta` ensures classes defined with it can easily be casted form objects they subclass."
   ]
  },
  {
   "cell_type": "code",
   "execution_count": 23,
   "metadata": {
    "Collapsed": "false"
   },
   "outputs": [],
   "source": [
    "class FixSigMeta(type):\n",
    "    \"A metaclass that fixes the signature on classes that override __init__\"\n",
    "    def __new__(cls, name, bases, dict):\n",
    "        res = super().__new__(cls, name, bases, dict)\n",
    "        if res.__init__ is not object.__init__: res.__signature__ = inspect.signature(res.__init__)\n",
    "        return res"
   ]
  },
  {
   "cell_type": "code",
   "execution_count": 5,
   "metadata": {
    "Collapsed": "false"
   },
   "outputs": [],
   "source": [
    "class PrePostInitMeta(FixSigMeta):\n",
    "    \"A metaclass that calls optional `__pre_init__` and `__post_init__` methods\"\n",
    "    def __call__(cls, *args, **kwargs):\n",
    "        res = cls.__new__(cls)\n",
    "        if type(res)==cls:\n",
    "            if hasattr(res,'__pre_init__'): res.__pre_init__(*args,**kwargs)\n",
    "            res.__init__(*args,**kwargs)\n",
    "            if hasattr(res,'__post_init__'): res.__post_init__(*args,**kwargs)\n",
    "        return res"
   ]
  },
  {
   "cell_type": "code",
   "execution_count": 6,
   "metadata": {
    "Collapsed": "false"
   },
   "outputs": [],
   "source": [
    "class _T(metaclass=PrePostInitMeta):\n",
    "    def __pre_init__(self):  self.a  = 0; assert self.a==0\n",
    "    def __init__(self,b=0):  self.a += 1; assert self.a==1\n",
    "    def __post_init__(self): self.a += 1; assert self.a==2\n",
    "\n",
    "t = _T()\n",
    "test_eq(t.a, 2)"
   ]
  },
  {
   "cell_type": "code",
   "execution_count": 9,
   "metadata": {
    "Collapsed": "false"
   },
   "outputs": [],
   "source": [
    "class NewChkMeta(FixSigMeta):\n",
    "    \"Metaclass to avoid recreating object passed to constructor\"\n",
    "    def __call__(cls, x=None, *args, **kwargs):\n",
    "        if not args and not kwargs and x is not None and isinstance(x,cls):\n",
    "            x._newchk = 1\n",
    "            return x\n",
    "\n",
    "        res = super().__call__(*((x,) + args), **kwargs)\n",
    "        res._newchk = 0\n",
    "        return res"
   ]
  },
  {
   "cell_type": "code",
   "execution_count": 29,
   "metadata": {
    "Collapsed": "false"
   },
   "outputs": [
    {
     "data": {
      "text/plain": [
       "4557526112"
      ]
     },
     "execution_count": 29,
     "metadata": {},
     "output_type": "execute_result"
    }
   ],
   "source": [
    "id(2)"
   ]
  },
  {
   "cell_type": "code",
   "execution_count": 26,
   "metadata": {
    "Collapsed": "false"
   },
   "outputs": [],
   "source": [
    "class F:\n",
    "    pass"
   ]
  },
  {
   "cell_type": "code",
   "execution_count": 30,
   "metadata": {
    "Collapsed": "false"
   },
   "outputs": [],
   "source": [
    "class GreatestMetaclass(type):\n",
    "    def __new__(metacls, name, bases, attrs):\n",
    "        x = super().__new__(metacls, name, bases, attrs)\n",
    "        print(metacls)\n",
    "        return x"
   ]
  },
  {
   "cell_type": "code",
   "execution_count": 31,
   "metadata": {
    "Collapsed": "false"
   },
   "outputs": [
    {
     "name": "stdout",
     "output_type": "stream",
     "text": [
      "<class '__main__.GreatestMetaclass'>\n"
     ]
    }
   ],
   "source": [
    "class F(metaclass=GreatestMetaclass):\n",
    "    pass"
   ]
  },
  {
   "cell_type": "code",
   "execution_count": null,
   "metadata": {
    "Collapsed": "false"
   },
   "outputs": [],
   "source": []
  }
 ],
 "metadata": {
  "jupytext": {
   "split_at_heading": true
  },
  "kernelspec": {
   "display_name": "Python 3.7.0 64-bit ('troi': conda)",
   "language": "python",
   "name": "python37064bittroiconda78185af8300c4c8093676b3581b7f397"
  },
  "language_info": {
   "codemirror_mode": {
    "name": "ipython",
    "version": 3
   },
   "file_extension": ".py",
   "mimetype": "text/x-python",
   "name": "python",
   "nbconvert_exporter": "python",
   "pygments_lexer": "ipython3",
   "version": "3.7.0"
  }
 },
 "nbformat": 4,
 "nbformat_minor": 4
}
