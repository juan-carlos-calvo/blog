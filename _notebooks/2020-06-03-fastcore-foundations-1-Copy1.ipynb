{
 "cells": [
  {
   "cell_type": "markdown",
   "metadata": {
    "Collapsed": "false"
   },
   "source": [
    "# Fastcore 01\n",
    "> Foundations\n",
    "\n",
    "- toc: true \n",
    "- badges: true\n",
    "- comments: true\n",
    "- categories: [fastcore, fastai, python]\n",
    "- hide: true"
   ]
  },
  {
   "cell_type": "markdown",
   "metadata": {
    "Collapsed": "false"
   },
   "source": [
    "This is the second of a series of posts whose aim is to go through the complete development of fastcore and fastai2. See this post for a brief overview of metaclasses and references thereof."
   ]
  },
  {
   "cell_type": "code",
   "execution_count": 1,
   "metadata": {
    "Collapsed": "false"
   },
   "outputs": [],
   "source": [
    "from fastcore.imports import *"
   ]
  },
  {
   "cell_type": "code",
   "execution_count": 2,
   "metadata": {
    "Collapsed": "false"
   },
   "outputs": [],
   "source": [
    "#hide\n",
    "from fastcore.test import *\n",
    "from nbdev.showdoc import *"
   ]
  },
  {
   "cell_type": "markdown",
   "metadata": {
    "Collapsed": "false"
   },
   "source": [
    "# Core\n",
    "\n",
    "> Basic functions used in the fastai library"
   ]
  },
  {
   "cell_type": "code",
   "execution_count": 3,
   "metadata": {
    "Collapsed": "false"
   },
   "outputs": [],
   "source": [
    "defaults = SimpleNamespace()"
   ]
  },
  {
   "cell_type": "markdown",
   "metadata": {
    "Collapsed": "false"
   },
   "source": [
    "## Metaclasses"
   ]
  },
  {
   "cell_type": "markdown",
   "metadata": {
    "Collapsed": "false"
   },
   "source": [
    "Actually I'm not sure `FixSigMeta` does anything for now, because if I don´t fix the signature and inherit from a metaclass (which doesn´t overwrite `__init__`), the signature stays the same."
   ]
  },
  {
   "cell_type": "code",
   "execution_count": 68,
   "metadata": {
    "Collapsed": "false"
   },
   "outputs": [],
   "source": [
    "class FixSigMeta(type):\n",
    "    \"A metaclass that fixes the signature on classes that override __init__\"\n",
    "    def __new__(cls, name, bases, dict):\n",
    "        res = super().__new__(cls, name, bases, dict)\n",
    "        if res.__init__ is not object.__init__: res.__signature__ = inspect.signature(res.__init__)\n",
    "        return res"
   ]
  },
  {
   "cell_type": "markdown",
   "metadata": {
    "Collapsed": "false"
   },
   "source": [
    "I'm curious about when `type(cls.__new__(cls))!=cls`. Note that `cls` is the class inheriting from this metaclass."
   ]
  },
  {
   "cell_type": "code",
   "execution_count": 69,
   "metadata": {
    "Collapsed": "false"
   },
   "outputs": [],
   "source": [
    "class PrePostInitMeta(FixSigMeta):\n",
    "    \"A metaclass that calls optional `__pre_init__` and `__post_init__` methods\"\n",
    "    def __call__(cls, *args, **kwargs):\n",
    "        res = cls.__new__(cls)\n",
    "        if type(res)==cls:\n",
    "            if hasattr(res,'__pre_init__'): res.__pre_init__(*args,**kwargs)\n",
    "            res.__init__(*args,**kwargs)\n",
    "            if hasattr(res,'__post_init__'): res.__post_init__(*args,**kwargs)\n",
    "        return res"
   ]
  },
  {
   "cell_type": "markdown",
   "metadata": {
    "Collapsed": "false"
   },
   "source": [
    "Here is a simple test"
   ]
  },
  {
   "cell_type": "code",
   "execution_count": 71,
   "metadata": {
    "Collapsed": "false"
   },
   "outputs": [],
   "source": [
    "class _T(metaclass=PrePostInitMeta):\n",
    "    def __pre_init__(self):  self.a  = 0; assert self.a==0\n",
    "    def __init__(self,b=0):  self.a += 1; assert self.a==1\n",
    "    def __post_init__(self): self.a += 1; assert self.a==2\n",
    "\n",
    "t = _T()\n",
    "test_eq(t.a, 2)"
   ]
  },
  {
   "cell_type": "markdown",
   "metadata": {
    "Collapsed": "false"
   },
   "source": [
    "The metaclass below avoids recreating `x` when `x` is passed as the sole argument to `cls` if `x` is an instance of `cls` (`x.__class__=cls` or equivalently `isinstance(x, cls)==True`). It also adds the property `_newchk` to `x` which tracks if `x` has been passed as the sole argument to its class (`x._newchk=1`) or not (`x._newchk=0`)."
   ]
  },
  {
   "cell_type": "code",
   "execution_count": 33,
   "metadata": {
    "Collapsed": "false"
   },
   "outputs": [],
   "source": [
    "class NewChkMeta(FixSigMeta):\n",
    "    \"Metaclass to avoid recreating object passed to constructor\"\n",
    "    def __call__(cls, x=None, *args, **kwargs):\n",
    "        if not args and not kwargs and x is not None and isinstance(x,cls):\n",
    "            x._newchk = 1\n",
    "            return x\n",
    "\n",
    "        res = super().__call__(*((x,) + args), **kwargs)\n",
    "        res._newchk = 0\n",
    "        return res"
   ]
  },
  {
   "cell_type": "code",
   "execution_count": 72,
   "metadata": {
    "Collapsed": "false"
   },
   "outputs": [],
   "source": [
    "class _T(metaclass=NewChkMeta):\n",
    "    \"Testing\"\n",
    "    def __init__(self, o=None, b=1):\n",
    "        self.foo = getattr(o,'foo',0) + 1\n",
    "        self.b = b"
   ]
  },
  {
   "cell_type": "code",
   "execution_count": 73,
   "metadata": {
    "Collapsed": "false"
   },
   "outputs": [],
   "source": [
    "class _T2():\n",
    "    def __init__(self, o): self.foo = getattr(o,'foo',0) + 1"
   ]
  },
  {
   "cell_type": "markdown",
   "metadata": {
    "Collapsed": "false"
   },
   "source": [
    "Below, `t` is passed as the sole argument to `_T` and thus, because of its metaclass, it is returned as it is and no new object is created"
   ]
  },
  {
   "cell_type": "code",
   "execution_count": 74,
   "metadata": {
    "Collapsed": "false"
   },
   "outputs": [],
   "source": [
    "t = _T(1)\n",
    "test_eq(t.foo,1)\n",
    "t2 = _T(t)\n",
    "test_eq(t2.foo,1)\n",
    "test_is(t,t2)"
   ]
  },
  {
   "cell_type": "markdown",
   "metadata": {
    "Collapsed": "false"
   },
   "source": [
    "Below, `t` is passed not as the sole argument, so a new object `t3` different from `t` is created"
   ]
  },
  {
   "cell_type": "code",
   "execution_count": 73,
   "metadata": {
    "Collapsed": "false"
   },
   "outputs": [],
   "source": [
    "t3 = _T(t, b=2)\n",
    "test_eq(t3.b, 2)\n",
    "assert not t3 is t"
   ]
  },
  {
   "cell_type": "markdown",
   "metadata": {
    "Collapsed": "false"
   },
   "source": [
    "Observe that `t2` is different from `t` unlike above (`_T2` doesn't inherits from the metaclass)."
   ]
  },
  {
   "cell_type": "code",
   "execution_count": 75,
   "metadata": {
    "Collapsed": "false"
   },
   "outputs": [],
   "source": [
    "t = _T2(1)\n",
    "test_eq(t.foo,1)\n",
    "t2 = _T2(t)\n",
    "test_eq(t2.foo,2)\n",
    "\n",
    "test_eq(_T.__doc__, \"Testing\")\n",
    "# TODO: this shouldn't have \"self, \"\n",
    "test_eq(str(inspect.signature(_T)), '(self, o=None, b=1)')"
   ]
  },
  {
   "cell_type": "markdown",
   "metadata": {
    "Collapsed": "false"
   },
   "source": [
    "If `cls` has the attribute `_bypass_type`, and `x` is of this type (and is the sole, `x` argument, its type will by fixed to `cls`. Furthermore, if `cls` has the method `_new_meta`, `x` will by initialized by it."
   ]
  },
  {
   "cell_type": "code",
   "execution_count": 80,
   "metadata": {
    "Collapsed": "false"
   },
   "outputs": [],
   "source": [
    "class BypassNewMeta(FixSigMeta):\n",
    "    \"Metaclass: casts `x` to this class if it's of type `cls._bypass_type`, initializing with `_new_meta` if available\"\n",
    "    def __call__(cls, x=None, *args, **kwargs):\n",
    "        if hasattr(cls, '_new_meta'): x = cls._new_meta(x, *args, **kwargs)\n",
    "        elif not isinstance(x,getattr(cls,'_bypass_type',object)) or len(args) or len(kwargs):\n",
    "            x = super().__call__(*((x,)+args), **kwargs)\n",
    "        if cls!=x.__class__: x.__class__ = cls\n",
    "        return x"
   ]
  },
  {
   "cell_type": "code",
   "execution_count": 82,
   "metadata": {
    "Collapsed": "false"
   },
   "outputs": [],
   "source": [
    "class T0: pass\n",
    "class _T(T0, metaclass=BypassNewMeta):\n",
    "    _bypass_type=T0\n",
    "    def __init__(self,x): self.x=x\n",
    "\n",
    "t = T0()\n",
    "t.a = 1\n",
    "t2 = _T(t)\n",
    "test_eq(type(t2), _T)\n",
    "test_eq(t2.a,1)\n",
    "test_is(t2,t)\n",
    "t = _T(2)\n",
    "t.x = 2"
   ]
  },
  {
   "cell_type": "markdown",
   "metadata": {
    "Collapsed": "false"
   },
   "source": [
    "## Foundational functions"
   ]
  },
  {
   "cell_type": "markdown",
   "metadata": {
    "Collapsed": "false"
   },
   "source": [
    "`copy.copy` doesn´t work to copy functions, so we have to create a new one with all the same attributes."
   ]
  },
  {
   "cell_type": "code",
   "execution_count": 92,
   "metadata": {
    "Collapsed": "false"
   },
   "outputs": [],
   "source": [
    "def copy_func(f):\n",
    "    \"Copy a non-builtin function (NB `copy.copy` does not work for this)\"\n",
    "    if not isinstance(f,FunctionType): return copy(f)\n",
    "    fn = FunctionType(f.__code__, f.__globals__, f.__name__, f.__defaults__, f.__closure__)\n",
    "    fn.__dict__.update(f.__dict__)\n",
    "    return fn"
   ]
  },
  {
   "cell_type": "markdown",
   "metadata": {
    "Collapsed": "false"
   },
   "source": [
    "Function wrapper that adds `f` to `cls` which can be either a class or a `tuple`/`list` of classes. If `as_prop==True`, f is added as property."
   ]
  },
  {
   "cell_type": "code",
   "execution_count": 93,
   "metadata": {
    "Collapsed": "false"
   },
   "outputs": [],
   "source": [
    "def patch_to(cls, as_prop=False):\n",
    "    \"Decorator: add `f` to `cls`\"\n",
    "    if not isinstance(cls, (tuple,list)): cls=(cls,)\n",
    "    def _inner(f):\n",
    "        for c_ in cls:\n",
    "            nf = copy_func(f)\n",
    "            # `functools.update_wrapper` when passing patched function to `Pipeline`, so we do it manually\n",
    "            for o in functools.WRAPPER_ASSIGNMENTS: setattr(nf, o, getattr(f,o))\n",
    "            nf.__qualname__ = f\"{c_.__name__}.{f.__name__}\"\n",
    "            setattr(c_, f.__name__, property(nf) if as_prop else nf)\n",
    "        return f\n",
    "    return _inner"
   ]
  },
  {
   "cell_type": "code",
   "execution_count": 94,
   "metadata": {
    "Collapsed": "false"
   },
   "outputs": [],
   "source": [
    "class _T3(int): pass\n",
    "\n",
    "@patch_to(_T3)\n",
    "def func1(x, a): return x+a\n",
    "\n",
    "t = _T3(1)\n",
    "test_eq(t.func1(2), 3)"
   ]
  },
  {
   "cell_type": "code",
   "execution_count": 95,
   "metadata": {
    "Collapsed": "false"
   },
   "outputs": [],
   "source": [
    "class _T4(int): pass\n",
    "@patch_to((_T3,_T4))\n",
    "def func2(x, a): return x+2*a\n",
    "\n",
    "t = _T3(1)\n",
    "test_eq(t.func2(1), 3)\n",
    "t = _T4(1)\n",
    "test_eq(t.func2(1), 3)"
   ]
  },
  {
   "cell_type": "markdown",
   "metadata": {
    "Collapsed": "false"
   },
   "source": [
    "By reading `f`s type annotations, this decorator add's `f` to the type of `f`'s first argument."
   ]
  },
  {
   "cell_type": "code",
   "execution_count": 96,
   "metadata": {
    "Collapsed": "false"
   },
   "outputs": [],
   "source": [
    "def patch(f):\n",
    "    \"Decorator: add `f` to the first parameter's class (based on f's type annotations)\"\n",
    "    cls = next(iter(f.__annotations__.values()))\n",
    "    return patch_to(cls)(f)"
   ]
  },
  {
   "cell_type": "code",
   "execution_count": 97,
   "metadata": {
    "Collapsed": "false"
   },
   "outputs": [],
   "source": [
    "@patch\n",
    "def func(x:_T3, a):\n",
    "    \"test\"\n",
    "    return x+2\n",
    "\n",
    "t = _T3(1)\n",
    "test_eq(t.func(2), 3)\n",
    "test_eq(t.func.__qualname__, '_T3.func')"
   ]
  },
  {
   "cell_type": "code",
   "execution_count": 98,
   "metadata": {
    "Collapsed": "false"
   },
   "outputs": [],
   "source": [
    "@patch\n",
    "def func3(x:(_T3,_T4), a):\n",
    "    \"test\"\n",
    "    return x+2*a\n",
    "\n",
    "t = _T3(1)\n",
    "test_eq(t.func3(2), 5)\n",
    "test_eq(t.func3.__qualname__, '_T3.func3')\n",
    "t = _T4(1)\n",
    "test_eq(t.func3(2), 5)\n",
    "test_eq(t.func3.__qualname__, '_T4.func3')"
   ]
  },
  {
   "cell_type": "markdown",
   "metadata": {
    "Collapsed": "false"
   },
   "source": [
    "Same as above, but with `as_prop==True`."
   ]
  },
  {
   "cell_type": "code",
   "execution_count": 99,
   "metadata": {
    "Collapsed": "false"
   },
   "outputs": [],
   "source": [
    "def patch_property(f):\n",
    "    \"Decorator: add `f` as a property to the first parameter's class (based on f's type annotations)\"\n",
    "    cls = next(iter(f.__annotations__.values()))\n",
    "    return patch_to(cls, as_prop=True)(f)"
   ]
  },
  {
   "cell_type": "code",
   "execution_count": 100,
   "metadata": {
    "Collapsed": "false"
   },
   "outputs": [],
   "source": [
    "@patch_property\n",
    "def prop(x:_T3): return x+1\n",
    "\n",
    "t = _T3(1)\n",
    "test_eq(t.prop, 2)"
   ]
  },
  {
   "cell_type": "markdown",
   "metadata": {
    "Collapsed": "false"
   },
   "source": [
    "Create paramter named `n` with value `d`"
   ]
  },
  {
   "cell_type": "code",
   "execution_count": 110,
   "metadata": {
    "Collapsed": "false"
   },
   "outputs": [],
   "source": [
    "def _mk_param(n,d=None): return inspect.Parameter(n, inspect.Parameter.KEYWORD_ONLY, default=d)"
   ]
  },
  {
   "cell_type": "markdown",
   "metadata": {
    "Collapsed": "false"
   },
   "source": [
    "Test that `f`s signature is `b`."
   ]
  },
  {
   "cell_type": "code",
   "execution_count": 113,
   "metadata": {
    "Collapsed": "false"
   },
   "outputs": [],
   "source": [
    "def test_sig(f, b): test_eq(str(inspect.signature(f)), b)"
   ]
  },
  {
   "cell_type": "markdown",
   "metadata": {
    "Collapsed": "false"
   },
   "source": [
    "replace (if `keep=False`, otherwise add to) `f`'s signature `**kwargs` with the descorator's `**kwargs`"
   ]
  },
  {
   "cell_type": "code",
   "execution_count": 114,
   "metadata": {
    "Collapsed": "false"
   },
   "outputs": [],
   "source": [
    "def use_kwargs_dict(keep=False, **kwargs):\n",
    "    \"Decorator: replace `**kwargs` in signature with `names` params\"\n",
    "    def _f(f):\n",
    "        sig = inspect.signature(f)\n",
    "        sigd = dict(sig.parameters)\n",
    "        k = sigd.pop('kwargs')\n",
    "        s2 = {n:_mk_param(n,d) for n,d in kwargs.items() if n not in sigd}\n",
    "        sigd.update(s2)\n",
    "        if keep: sigd['kwargs'] = k\n",
    "        f.__signature__ = sig.replace(parameters=sigd.values())\n",
    "        return f\n",
    "    return _f"
   ]
  },
  {
   "cell_type": "markdown",
   "metadata": {
    "Collapsed": "false"
   },
   "source": [
    "`*` specifies the end of regular arguments and the start of keyword arguments"
   ]
  },
  {
   "cell_type": "code",
   "execution_count": 115,
   "metadata": {
    "Collapsed": "false"
   },
   "outputs": [],
   "source": [
    "@use_kwargs_dict(y=1,z=None)\n",
    "def foo(a, b=1, **kwargs): pass\n",
    "test_sig(foo, '(a, b=1, *, y=1, z=None)')"
   ]
  },
  {
   "cell_type": "code",
   "execution_count": 116,
   "metadata": {
    "Collapsed": "false"
   },
   "outputs": [],
   "source": [
    "def use_kwargs(names, keep=False):\n",
    "    \"Decorator: replace `**kwargs` in signature with `names` params\"\n",
    "    def _f(f):\n",
    "        sig = inspect.signature(f)\n",
    "        sigd = dict(sig.parameters)\n",
    "        k = sigd.pop('kwargs')\n",
    "        s2 = {n:_mk_param(n) for n in names if n not in sigd}\n",
    "        sigd.update(s2)\n",
    "        if keep: sigd['kwargs'] = k\n",
    "        f.__signature__ = sig.replace(parameters=sigd.values())\n",
    "        return f\n",
    "    return _f"
   ]
  },
  {
   "cell_type": "code",
   "execution_count": 117,
   "metadata": {
    "Collapsed": "false"
   },
   "outputs": [],
   "source": [
    "@use_kwargs(['y', 'z'])\n",
    "def foo(a, b=1, **kwargs): pass\n",
    "test_sig(foo, '(a, b=1, *, y=None, z=None)')\n",
    "\n",
    "@use_kwargs(['y', 'z'], keep=True)\n",
    "def foo(a, *args, b=1, **kwargs): pass\n",
    "test_sig(foo, '(a, *args, b=1, y=None, z=None, **kwargs)')"
   ]
  },
  {
   "cell_type": "code",
   "execution_count": 118,
   "metadata": {
    "Collapsed": "false"
   },
   "outputs": [],
   "source": [
    "def delegates(to=None, keep=False):\n",
    "    \"Decorator: replace `**kwargs` in signature with params from `to`\"\n",
    "    def _f(f):\n",
    "        if to is None: to_f,from_f = f.__base__.__init__,f.__init__\n",
    "        else:          to_f,from_f = to,f\n",
    "        from_f = getattr(from_f,'__func__',from_f)\n",
    "        if hasattr(from_f,'__delwrap__'): return f\n",
    "        sig = inspect.signature(from_f)\n",
    "        sigd = dict(sig.parameters)\n",
    "        k = sigd.pop('kwargs')\n",
    "        s2 = {k:v for k,v in inspect.signature(to_f).parameters.items()\n",
    "              if v.default != inspect.Parameter.empty and k not in sigd}\n",
    "        sigd.update(s2)\n",
    "        if keep: sigd['kwargs'] = k\n",
    "        else: from_f.__delwrap__ = to_f\n",
    "        from_f.__signature__ = sig.replace(parameters=sigd.values())\n",
    "        return f\n",
    "    return _f"
   ]
  },
  {
   "cell_type": "code",
   "execution_count": 119,
   "metadata": {
    "Collapsed": "false"
   },
   "outputs": [],
   "source": [
    "def basefoo(e, c=2): pass\n",
    "\n",
    "@delegates(basefoo)\n",
    "def foo(a, b=1, **kwargs): pass\n",
    "test_sig(foo, '(a, b=1, c=2)')\n",
    "\n",
    "@delegates(basefoo, keep=True)\n",
    "def foo(a, b=1, **kwargs): pass\n",
    "test_sig(foo, '(a, b=1, c=2, **kwargs)')"
   ]
  },
  {
   "cell_type": "code",
   "execution_count": 120,
   "metadata": {
    "Collapsed": "false"
   },
   "outputs": [],
   "source": [
    "class BaseFoo:\n",
    "    def __init__(self, e, c=2): pass\n",
    "\n",
    "@delegates()\n",
    "class Foo(BaseFoo):\n",
    "    def __init__(self, a, b=1, **kwargs): super().__init__(**kwargs)\n",
    "\n",
    "test_sig(Foo, '(a, b=1, c=2)')"
   ]
  },
  {
   "cell_type": "code",
   "execution_count": 121,
   "metadata": {
    "Collapsed": "false"
   },
   "outputs": [],
   "source": [
    "def funcs_kwargs(cls):\n",
    "    \"Replace methods in `self._methods` with those from `kwargs`\"\n",
    "    old_init = cls.__init__\n",
    "    def _init(self, *args, **kwargs):\n",
    "        for k in cls._methods:\n",
    "            arg = kwargs.pop(k,None)\n",
    "            if arg is not None:\n",
    "                if isinstance(arg,MethodType): arg = MethodType(arg.__func__, self)\n",
    "                setattr(self, k, arg)\n",
    "        old_init(self, *args, **kwargs)\n",
    "    functools.update_wrapper(_init, old_init)\n",
    "    cls.__init__ = use_kwargs(cls._methods)(_init)\n",
    "    return cls"
   ]
  },
  {
   "cell_type": "code",
   "execution_count": 122,
   "metadata": {
    "Collapsed": "false"
   },
   "outputs": [],
   "source": [
    "def method(f):\n",
    "    \"Mark `f` as a method\"\n",
    "    # `1` is a dummy instance since Py3 doesn't allow `None` any more\n",
    "    return MethodType(f, 1)"
   ]
  },
  {
   "cell_type": "code",
   "execution_count": 123,
   "metadata": {
    "Collapsed": "false"
   },
   "outputs": [],
   "source": [
    "@funcs_kwargs\n",
    "class T:\n",
    "    _methods=['b']\n",
    "    def __init__(self, f=1, **kwargs): assert not kwargs\n",
    "    def a(self): return 1\n",
    "    def b(self): return 2\n",
    "    \n",
    "t = T()\n",
    "test_eq(t.a(), 1)\n",
    "test_eq(t.b(), 2)\n",
    "t = T(b = lambda:3)\n",
    "test_eq(t.b(), 3)\n",
    "test_sig(T, '(f=1, *, b=None)')\n",
    "test_fail(lambda: T(a = lambda:3))\n",
    "\n",
    "@method\n",
    "def _f(self,a=1): return a+1\n",
    "t = T(b = _f)\n",
    "test_eq(t.b(2), 3)\n",
    "\n",
    "class T2(T):\n",
    "    def __init__(self,a):\n",
    "        super().__init__(b = lambda:3)\n",
    "        self.a=a\n",
    "t = T2(a=1)\n",
    "test_eq(t.b(), 3)\n",
    "test_sig(T2, '(a)')\n",
    "\n",
    "def _g(a=1): return a+1\n",
    "class T3(T): b = staticmethod(_g)\n",
    "t = T3()\n",
    "test_eq(t.b(2), 3)"
   ]
  },
  {
   "cell_type": "code",
   "execution_count": 124,
   "metadata": {
    "Collapsed": "false"
   },
   "outputs": [],
   "source": [
    "@contextmanager\n",
    "def working_directory(path):\n",
    "    \"Change working directory to `path` and return to previous on exit.\"\n",
    "    prev_cwd = Path.cwd()\n",
    "    os.chdir(path)\n",
    "    try: yield\n",
    "    finally: os.chdir(prev_cwd)"
   ]
  },
  {
   "cell_type": "code",
   "execution_count": 125,
   "metadata": {
    "Collapsed": "false"
   },
   "outputs": [],
   "source": [
    "def add_docs(cls, cls_doc=None, **docs):\n",
    "    \"Copy values from `docs` to `cls` docstrings, and confirm all public methods are documented\"\n",
    "    if cls_doc is not None: cls.__doc__ = cls_doc\n",
    "    for k,v in docs.items():\n",
    "        f = getattr(cls,k)\n",
    "        if hasattr(f,'__func__'): f = f.__func__ # required for class methods\n",
    "        f.__doc__ = v\n",
    "    # List of public callables without docstring\n",
    "    nodoc = [c for n,c in vars(cls).items() if callable(c)\n",
    "             and not n.startswith('_') and c.__doc__ is None]\n",
    "    assert not nodoc, f\"Missing docs: {nodoc}\"\n",
    "    assert cls.__doc__ is not None, f\"Missing class docs: {cls}\""
   ]
  },
  {
   "cell_type": "code",
   "execution_count": 126,
   "metadata": {
    "Collapsed": "false"
   },
   "outputs": [],
   "source": [
    "def docs(cls):\n",
    "    \"Decorator version of `add_docs`, using `_docs` dict\"\n",
    "    add_docs(cls, **cls._docs)\n",
    "    return cls"
   ]
  },
  {
   "cell_type": "code",
   "execution_count": 127,
   "metadata": {
    "Collapsed": "false"
   },
   "outputs": [],
   "source": [
    "class _T:\n",
    "    def f(self): pass\n",
    "    @classmethod\n",
    "    def g(cls): pass\n",
    "add_docs(_T, \"a\", f=\"f\", g=\"g\")\n",
    "\n",
    "test_eq(_T.__doc__, \"a\")\n",
    "test_eq(_T.f.__doc__, \"f\")\n",
    "test_eq(_T.g.__doc__, \"g\")"
   ]
  },
  {
   "cell_type": "code",
   "execution_count": 128,
   "metadata": {
    "Collapsed": "false"
   },
   "outputs": [],
   "source": [
    "def custom_dir(c, add:list):\n",
    "    \"Implement custom `__dir__`, adding `add` to `cls`\"\n",
    "    return dir(type(c)) + list(c.__dict__.keys()) + addb\n"
   ]
  },
  {
   "cell_type": "code",
   "execution_count": 131,
   "metadata": {
    "Collapsed": "false"
   },
   "outputs": [],
   "source": [
    "class _Arg:\n",
    "    def __init__(self,i): self.i = i\n",
    "arg0 = _Arg(0)\n",
    "arg1 = _Arg(1)\n",
    "arg2 = _Arg(2)\n",
    "arg3 = _Arg(3)\n",
    "arg4 = _Arg(4)"
   ]
  },
  {
   "cell_type": "code",
   "execution_count": 132,
   "metadata": {
    "Collapsed": "false"
   },
   "outputs": [],
   "source": [
    "class bind:\n",
    "    \"Same as `partial`, except you can use `arg0` `arg1` etc param placeholders\"\n",
    "    def __init__(self, fn, *pargs, **pkwargs):\n",
    "        self.fn,self.pargs,self.pkwargs = fn,pargs,pkwargs\n",
    "        self.maxi = max((x.i for x in pargs if isinstance(x, _Arg)), default=-1)\n",
    "\n",
    "    def __call__(self, *args, **kwargs):\n",
    "        args = list(args)\n",
    "        kwargs = {**self.pkwargs,**kwargs}\n",
    "        for k,v in kwargs.items():\n",
    "            if isinstance(v,_Arg): kwargs[k] = args.pop(v.i)\n",
    "        fargs = [args[x.i] if isinstance(x, _Arg) else x for x in self.pargs] + args[self.maxi+1:]\n",
    "        return self.fn(*fargs, **kwargs)"
   ]
  },
  {
   "cell_type": "code",
   "execution_count": 133,
   "metadata": {
    "Collapsed": "false"
   },
   "outputs": [],
   "source": [
    "def myfn(a,b,c,d=1,e=2): return(a,b,c,d,e)\n",
    "test_eq(bind(myfn, arg1, 17, arg0, e=3)(19,14), (14,17,19,1,3))\n",
    "test_eq(bind(myfn, 17, arg0, e=3)(19,14), (17,19,14,1,3))\n",
    "test_eq(bind(myfn, 17, e=3)(19,14), (17,19,14,1,3))\n",
    "test_eq(bind(myfn)(17,19,14), (17,19,14,1,2))\n",
    "test_eq(bind(myfn, 17,19,14,e=arg0)(3), (17,19,14,1,3))"
   ]
  },
  {
   "cell_type": "code",
   "execution_count": null,
   "metadata": {
    "Collapsed": "false"
   },
   "outputs": [],
   "source": []
  }
 ],
 "metadata": {
  "jupytext": {
   "split_at_heading": true
  },
  "kernelspec": {
   "display_name": "Python 3.7.0 64-bit ('troi': conda)",
   "language": "python",
   "name": "python37064bittroiconda78185af8300c4c8093676b3581b7f397"
  },
  "language_info": {
   "codemirror_mode": {
    "name": "ipython",
    "version": 3
   },
   "file_extension": ".py",
   "mimetype": "text/x-python",
   "name": "python",
   "nbconvert_exporter": "python",
   "pygments_lexer": "ipython3",
   "version": "3.7.0"
  }
 },
 "nbformat": 4,
 "nbformat_minor": 4
}
