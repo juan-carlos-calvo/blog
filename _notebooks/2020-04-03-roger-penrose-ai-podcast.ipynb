{
 "cells": [
  {
   "cell_type": "markdown",
   "metadata": {
    "Collapsed": "false"
   },
   "source": [
    "# Roger Penrose \n",
    "> Physics of Consciousness and the Infinite Universe\n",
    "\n",
    "- toc: true \n",
    "- badges: false\n",
    "- comments: true\n",
    "- categories: [podcast, physics, consciousness, philosophy, Roger Penrose]"
   ]
  },
  {
   "cell_type": "markdown",
   "metadata": {
    "Collapsed": "false"
   },
   "source": [
    "> youtube: https://www.youtube.com/watch?v=orMtwOz6Db0"
   ]
  },
  {
   "cell_type": "markdown",
   "metadata": {
    "Collapsed": "false"
   },
   "source": [
    "A proof of a statement $p$, is a sequence of statements which follow logically from a set of axioms and ends with the statement $p$. For any given sequence ending in $p$, a computer could verify wether it constitutes a proof or not. \n",
    "\n",
    "On november of 1931, Kurt Gödel, sent waves through the mathematical world by publishing *On Formally Undecidable Propositions of Principia Mathematica and Related Systems*. In this paper, Kurt shows that given any formal system, you can build a statement $q$ which ***you can see*** is true, but it cannot be proved within that system. i.e., thre is no formally verifiable sequence of statements within that system that ends with $q$."
   ]
  },
  {
   "cell_type": "markdown",
   "metadata": {
    "Collapsed": "false"
   },
   "source": [
    "What does it mean ***you can see*** in the paragraph above? \n",
    "\n",
    "> warning: I haven't studied the proof myself.\n",
    "\n",
    "This ***you can see*** has to do with the meaning of symbols, and thus, with understanding (I know, equally foggie terms). For a machine it does not makes sense to think of it as true, unless the statement itself is appended to the formal system as an axiom. We humans, by the meaning attached to the symbols, can conveive of that statement as being true."
   ]
  },
  {
   "cell_type": "markdown",
   "metadata": {
    "Collapsed": "false"
   },
   "source": [
    "Roger wonders were this understanding comes from. In going through each physical theory, his agument is that all of them can be put into a computer {% fn 1 %}. You can run black hole simulations on a computer and you can even put the Schrödinger equation in it. However, according to him {% fn 2 %} , quantum mechanics is incomplete, specifically, because of the collapse of the wave function. This collapse is not in the equation. There is not sistemathic theory which characterizes what constitutes and observation and what doesn't. Roger believes this is here where a tentative building block of consciousness might be found."
   ]
  },
  {
   "cell_type": "markdown",
   "metadata": {
    "Collapsed": "false"
   },
   "source": [
    "{{ 'A computer can obtain solutions, given enough time, with arbitrary precision. One might wonder if this closeness is close enough.' | fndetail: 1 }}\n",
    "{{ 'He also quotes authority here: Einstein, Schrödinger, and Dirac' | fndetail: 2 }}"
   ]
  },
  {
   "cell_type": "code",
   "execution_count": null,
   "metadata": {
    "Collapsed": "false"
   },
   "outputs": [],
   "source": []
  }
 ],
 "metadata": {
  "jupytext": {
   "split_at_heading": true
  },
  "kernelspec": {
   "display_name": "Python 3.7.0 64-bit ('troi': conda)",
   "language": "python",
   "name": "python37064bittroiconda78185af8300c4c8093676b3581b7f397"
  },
  "language_info": {
   "codemirror_mode": {
    "name": "ipython",
    "version": 3
   },
   "file_extension": ".py",
   "mimetype": "text/x-python",
   "name": "python",
   "nbconvert_exporter": "python",
   "pygments_lexer": "ipython3",
   "version": "3.7.0"
  }
 },
 "nbformat": 4,
 "nbformat_minor": 4
}
